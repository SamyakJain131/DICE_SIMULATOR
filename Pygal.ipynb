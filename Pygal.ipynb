{
 "cells": [
  {
   "cell_type": "code",
   "execution_count": null,
   "id": "1e4ad4cc",
   "metadata": {},
   "outputs": [],
   "source": []
  },
  {
   "cell_type": "code",
   "execution_count": 2,
   "id": "d6630ff8",
   "metadata": {},
   "outputs": [
    {
     "name": "stdout",
     "output_type": "stream",
     "text": [
      "The number of times dice roll: 5\n",
      "[2, 4, 3, 3, 5]\n",
      "[0, 1, 2, 1, 1, 0]\n"
     ]
    }
   ],
   "source": [
    "from random import randint\n",
    "\n",
    "class Die():\n",
    "    \n",
    "    def __init__(self,num_sides = 6):\n",
    "        self.num_sides = num_sides\n",
    "        \n",
    "    def roll(self):\n",
    "        return randint(1,self.num_sides)\n",
    "    \n",
    "die = Die()\n",
    "\n",
    "results = []\n",
    "x_times= int(input(\"The number of times dice roll: \"))\n",
    "\n",
    "for roll_num in range(x_times):\n",
    "    result = die.roll()\n",
    "    results.append(result)\n",
    "print(results)\n",
    "\n",
    "frequencies = []\n",
    "\n",
    "for values in range(1,die.num_sides+1):\n",
    "    frequency = results.count(values)\n",
    "    frequencies.append(frequency)\n",
    "print(frequencies)\n",
    "\n",
    "import pygal\n",
    "\n",
    "hist = pygal.Bar()\n",
    "hist.add('DIE',frequencies)\n",
    "\n",
    "hist.render_to_file('DICE RANDOM.svg')"
   ]
  },
  {
   "cell_type": "code",
   "execution_count": null,
   "id": "ed1b7afe",
   "metadata": {},
   "outputs": [],
   "source": []
  },
  {
   "cell_type": "code",
   "execution_count": null,
   "id": "6b500da2",
   "metadata": {},
   "outputs": [],
   "source": []
  }
 ],
 "metadata": {
  "kernelspec": {
   "display_name": "Python 3 (ipykernel)",
   "language": "python",
   "name": "python3"
  },
  "language_info": {
   "codemirror_mode": {
    "name": "ipython",
    "version": 3
   },
   "file_extension": ".py",
   "mimetype": "text/x-python",
   "name": "python",
   "nbconvert_exporter": "python",
   "pygments_lexer": "ipython3",
   "version": "3.10.9"
  }
 },
 "nbformat": 4,
 "nbformat_minor": 5
}
